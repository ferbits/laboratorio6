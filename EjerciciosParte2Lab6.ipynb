{
  "nbformat": 4,
  "nbformat_minor": 0,
  "metadata": {
    "colab": {
      "provenance": [],
      "authorship_tag": "ABX9TyNbGvVkUrZYnXVucE1xBhkN",
      "include_colab_link": true
    },
    "kernelspec": {
      "name": "python3",
      "display_name": "Python 3"
    },
    "language_info": {
      "name": "python"
    }
  },
  "cells": [
    {
      "cell_type": "markdown",
      "metadata": {
        "id": "view-in-github",
        "colab_type": "text"
      },
      "source": [
        "<a href=\"https://colab.research.google.com/github/ferbits/laboratorio6/blob/main/EjerciciosParte2Lab6.ipynb\" target=\"_parent\"><img src=\"https://colab.research.google.com/assets/colab-badge.svg\" alt=\"Open In Colab\"/></a>"
      ]
    },
    {
      "cell_type": "markdown",
      "source": [
        "**Pasos para preparar un té**"
      ],
      "metadata": {
        "id": "nC49hjafQSsC"
      }
    },
    {
      "cell_type": "code",
      "source": [
        "print(\"Paso 1: Llenar la tetera con agua\")\n",
        "print(\"Paso 2: Encender la estufa\")\n",
        "print(\"Paso 3: Montar la tetera en la estufa calentar el agua por aproximadamente 10 minutos\")\n",
        "print(\"Paso 4: Preparar la taza\")\n",
        "print(\"Paso 5: Introducir dos sobres de té en la taza\")\n",
        "print(\"Paso 4: Verter el agua caliente\")\n",
        "print(\"Paso 5: Dejar por unos minutos\")\n",
        "print(\"Paso 6: La tasa de té está terminada\")\n"
      ],
      "metadata": {
        "colab": {
          "base_uri": "https://localhost:8080/"
        },
        "id": "2UMDHpXlQVkh",
        "outputId": "360fd09c-acf1-4002-d510-7cd9c208510c"
      },
      "execution_count": 1,
      "outputs": [
        {
          "output_type": "stream",
          "name": "stdout",
          "text": [
            "Paso 1: Llenar la tetera con agua\n",
            "Paso 2: Encender la estufa\n",
            "Paso 3: Montar la tetera en la estufa calentar el agua por aproximadamente 10 minutos\n",
            "Paso 4: Preparar la taza\n",
            "Paso 5: Introducir dos sobres de té en la taza\n",
            "Paso 4: Verter el agua caliente\n",
            "Paso 5: Dejar por unos minutos\n",
            "Paso 6: La tasa de té está terminada\n"
          ]
        }
      ]
    },
    {
      "cell_type": "markdown",
      "source": [
        "**Cálculo del Promedio de Notas**"
      ],
      "metadata": {
        "id": "ld4MZ-A5RcOd"
      }
    },
    {
      "cell_type": "code",
      "source": [
        "# Algoritmo PromedioNotas en Python\n",
        "#Inicializo las variables\n",
        "x = 1\n",
        "suma = 0\n",
        "#Solicito que la persona ingrese la cantidad de notas a promediar (n)\n",
        "n = int(input(\"Ingresa el número de notas a promediar: \"))\n",
        "#Ciclo mientras n sea menor a “n” ingrese al ciclo pida los valores y súmelos\n",
        "while x <= n:\n",
        "    num = float(input(f\"Ingrese la nota {x}: \"))\n",
        "    suma += num\n",
        "    x += 1\n",
        "# Al terminar el ciclo divida el total de la suma(sum) por la cantidad de\n",
        "# valores (n)\n",
        "promedio = suma / n\n",
        "#Muestra el promedio de la nota del estudiante\n",
        "print(f\"El promedio de las {n} notas es: {promedio}\")"
      ],
      "metadata": {
        "colab": {
          "base_uri": "https://localhost:8080/"
        },
        "id": "DUfjTQxoV4jQ",
        "outputId": "652f1257-3b3a-4396-8750-9c583c7b0f98"
      },
      "execution_count": 2,
      "outputs": [
        {
          "output_type": "stream",
          "name": "stdout",
          "text": [
            "Ingresa el número de notas a promediar: 3\n",
            "Ingrese la nota 1: 4\n",
            "Ingrese la nota 2: 5\n",
            "Ingrese la nota 3: 3\n",
            "El promedio de las 3 notas es: 4.0\n"
          ]
        }
      ]
    },
    {
      "cell_type": "markdown",
      "source": [
        "**Verificar si un Número es Par o Impar: **"
      ],
      "metadata": {
        "id": "F8YOHVhuW90R"
      }
    },
    {
      "cell_type": "code",
      "source": [
        "#Se solicita al usuario que ingrese un número.\n",
        "num=int(input(\"Ingrese un número: \"))\n",
        "#Si el residuo del número es igual a cero el número es para\n",
        "if num%2==0:\n",
        "    print(\"El número es par\")\n",
        "#Si el residuo del número es diferente de cero el número es impar\n",
        "else:\n",
        "    print(\"El número es impar\")"
      ],
      "metadata": {
        "colab": {
          "base_uri": "https://localhost:8080/"
        },
        "id": "f_3pw8uBXBIM",
        "outputId": "4e54d48d-975f-4fe6-919c-3d28860dd254"
      },
      "execution_count": 18,
      "outputs": [
        {
          "output_type": "stream",
          "name": "stdout",
          "text": [
            "Ingrese un número: 56\n",
            "El número es par\n"
          ]
        }
      ]
    },
    {
      "cell_type": "markdown",
      "source": [
        "**Bucle para imprimir números del 1 al 5**"
      ],
      "metadata": {
        "id": "OKpg4VORZ233"
      }
    },
    {
      "cell_type": "code",
      "source": [
        "for num in range(1,6):  # Números del 1 al 5 indicando posición inicial y final\n",
        "  print(num)\n",
        "\n"
      ],
      "metadata": {
        "colab": {
          "base_uri": "https://localhost:8080/"
        },
        "id": "0i4afkqPZ7ff",
        "outputId": "49bf1fb6-9ec7-4445-c059-403066c1b7c4"
      },
      "execution_count": 10,
      "outputs": [
        {
          "output_type": "stream",
          "name": "stdout",
          "text": [
            "1\n",
            "2\n",
            "3\n",
            "4\n",
            "5\n"
          ]
        }
      ]
    },
    {
      "cell_type": "markdown",
      "source": [
        "**Convertir Grados Celsius a Fahrenheit: **"
      ],
      "metadata": {
        "id": "dHejKFOzdLQW"
      }
    },
    {
      "cell_type": "code",
      "source": [
        "temp_celsius=0.0 #creación de la variable\n",
        "print(\"Hola, este programa convierte grados celsius en fahrenheit\") #objetivo del programa\n",
        "\n",
        "dato_usuario=input(\"ingrese el valor de grados en celsius:  \") #solicitamos los grados celsius\n",
        "temp_celsius=float(dato_usuario) #convertimos el dato a flotante\n",
        "grados_fahrenheit=(temp_celsius*9/5)+32 #aplicamos la formula (C*9/5)+32\n",
        "print(\"Los grados en fahrenheit: \",grados_fahrenheit) #imprimimos el resultado"
      ],
      "metadata": {
        "colab": {
          "base_uri": "https://localhost:8080/"
        },
        "id": "p_aSVAMVdMtf",
        "outputId": "014d9553-f8b3-45b6-ddfc-8490c38d385c"
      },
      "execution_count": 11,
      "outputs": [
        {
          "output_type": "stream",
          "name": "stdout",
          "text": [
            "Hola, este programa convierte grados celsius en fahrenheit\n",
            "ingrese el valor de grados en celsius:  56\n",
            "Los grados en fahrenheit:  132.8\n"
          ]
        }
      ]
    },
    {
      "cell_type": "markdown",
      "source": [
        "**Contar la Cantidad de Vocales en una Cadena de Texto: **"
      ],
      "metadata": {
        "id": "1-wO-0QOe2bK"
      }
    },
    {
      "cell_type": "code",
      "source": [
        "# Inicializar el contador de vocales\n",
        "contador_vocales = 0\n",
        "# Defino la variable que va a almacenar la frase ingresada por teclado\n",
        "texto=str(input(\"Ingrese el texto:\"))\n",
        "# Contar las vocales en la frase\n",
        "for letra in texto.lower():\n",
        "    if letra in \"aeiou\":\n",
        "        contador_vocales += 1\n",
        "# Mostrar el resultado\n",
        "print(f\"La frase contiene {contador_vocales} vocales.\")"
      ],
      "metadata": {
        "colab": {
          "base_uri": "https://localhost:8080/"
        },
        "id": "wYyh8qcnfJg9",
        "outputId": "ea09fa01-eb61-4bf2-e657-5f3b30174f4c"
      },
      "execution_count": 16,
      "outputs": [
        {
          "output_type": "stream",
          "name": "stdout",
          "text": [
            "Ingrese el texto:te amo mucho\n",
            "La frase contiene 5 vocales.\n"
          ]
        }
      ]
    },
    {
      "cell_type": "markdown",
      "source": [
        "**Calcular el Factorial de un Número**"
      ],
      "metadata": {
        "id": "MMn0N_U5hS55"
      }
    },
    {
      "cell_type": "code",
      "source": [
        "# Solicitar un número al usuario\n",
        "numero = int(input(\"Ingrese un número para calcular su factorial: \"))\n",
        "\n",
        "# Inicializar el factorial en 1\n",
        "factorial = 1\n",
        "contador = numero\n",
        "\n",
        "# Calcular el factorial usando un bucle while\n",
        "while contador > 1:\n",
        "    factorial *= contador\n",
        "    contador -= 1\n",
        "\n",
        "# Mostrar el resultado\n",
        "print(f\"El factorial de {numero} es: {factorial}\")\n"
      ],
      "metadata": {
        "colab": {
          "base_uri": "https://localhost:8080/"
        },
        "id": "2zq6EYePhWyL",
        "outputId": "9e63fc0e-87b6-4c99-8318-bce9d317cae8"
      },
      "execution_count": 17,
      "outputs": [
        {
          "output_type": "stream",
          "name": "stdout",
          "text": [
            "Ingrese un número para calcular su factorial: 5\n",
            "El factorial5 es: 1\n"
          ]
        }
      ]
    }
  ]
}